{
  "nbformat": 4,
  "nbformat_minor": 0,
  "metadata": {
    "colab": {
      "provenance": []
    },
    "kernelspec": {
      "name": "python3",
      "display_name": "Python 3"
    },
    "language_info": {
      "name": "python"
    }
  },
  "cells": [
    {
      "cell_type": "markdown",
      "source": [
        "program python tipe data dan operator dalam menghitung rata-rata dan menampilkan status kelulusan"
      ],
      "metadata": {
        "id": "IA-UJvJaFe_K"
      }
    },
    {
      "cell_type": "code",
      "source": [
        "# Input nilai dari pengguna\n",
        "nilai1 = float(input(\"Masukkan nilai mata pelajaran 1: \"))\n",
        "nilai2 = float(input(\"Masukkan nilai mata pelajaran 2: \"))\n",
        "nilai3 = float(input(\"Masukkan nilai mata pelajaran 3: \"))\n",
        "\n",
        "# Hitung rata-rata\n",
        "rata_rata = (nilai1 + nilai2 + nilai3) / 3\n",
        "\n",
        "# Tampilkan rata-rata\n",
        "print(f\"Rata-rata nilai: {rata_rata:.2f}\")\n",
        "\n",
        "# Cek status kelulusan\n",
        "if rata_rata >= 75:\n",
        "    print(\"Status: LULUS\")\n",
        "else:\n",
        "    print(\"Status: TIDAK LULUS\")"
      ],
      "metadata": {
        "colab": {
          "base_uri": "https://localhost:8080/"
        },
        "id": "GhUkUAzlFW8O",
        "outputId": "3250a8dc-4242-4415-e8ce-9de5324597b7"
      },
      "execution_count": 8,
      "outputs": [
        {
          "output_type": "stream",
          "name": "stdout",
          "text": [
            "Masukkan nilai mata pelajaran 1: 70\n",
            "Masukkan nilai mata pelajaran 2: 88\n",
            "Masukkan nilai mata pelajaran 3: 90\n",
            "Rata-rata nilai: 82.67\n",
            "Status: LULUS\n"
          ]
        }
      ]
    }
  ]
}