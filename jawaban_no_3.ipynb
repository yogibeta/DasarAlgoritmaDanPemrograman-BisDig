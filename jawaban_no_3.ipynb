{
  "nbformat": 4,
  "nbformat_minor": 0,
  "metadata": {
    "colab": {
      "provenance": []
    },
    "kernelspec": {
      "name": "python3",
      "display_name": "Python 3"
    },
    "language_info": {
      "name": "python"
    }
  },
  "cells": [
    {
      "cell_type": "markdown",
      "source": [
        "Program rekursi dalam menghitung faktorial"
      ],
      "metadata": {
        "id": "wPgAEG9Uyw0J"
      }
    },
    {
      "cell_type": "code",
      "execution_count": 1,
      "metadata": {
        "colab": {
          "base_uri": "https://localhost:8080/"
        },
        "id": "WuKi6L3zyeZ3",
        "outputId": "4990f1cd-92c0-4d62-ba08-66881ed1e4e7"
      },
      "outputs": [
        {
          "output_type": "stream",
          "name": "stdout",
          "text": [
            "Masukkan angka untuk menghitung faktorial: 11\n",
            "Faktorial dari 11 adalah 39916800\n"
          ]
        }
      ],
      "source": [
        "def faktorial(n):\n",
        "    # Basis kasus: faktorial dari 0 atau 1 adalah 1\n",
        "    if n == 0 or n == 1:\n",
        "        return 1\n",
        "    else:\n",
        "        # Rekursif: n * faktorial dari (n-1)\n",
        "        return n * faktorial(n - 1)\n",
        "\n",
        "# Meminta input dari pengguna\n",
        "angka = int(input(\"Masukkan angka untuk menghitung faktorial: \"))\n",
        "hasil = faktorial(angka)\n",
        "\n",
        "print(f\"Faktorial dari {angka} adalah {hasil}\")"
      ]
    }
  ]
}