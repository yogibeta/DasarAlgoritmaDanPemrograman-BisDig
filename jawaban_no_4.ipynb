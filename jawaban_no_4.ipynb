{
  "nbformat": 4,
  "nbformat_minor": 0,
  "metadata": {
    "colab": {
      "provenance": []
    },
    "kernelspec": {
      "name": "python3",
      "display_name": "Python 3"
    },
    "language_info": {
      "name": "python"
    }
  },
  "cells": [
    {
      "cell_type": "markdown",
      "source": [],
      "metadata": {
        "id": "0JSPMa3R3wKS"
      }
    },
    {
      "cell_type": "markdown",
      "source": [
        "Program python untuk menerima nilai ke dalam list dan menampilkan nilai tertiggi"
      ],
      "metadata": {
        "id": "tOBdgyW83uQA"
      }
    },
    {
      "cell_type": "code",
      "source": [
        "# Inisialisasi list untuk menyimpan nilai siswa\n",
        "nilai_siswa = []\n",
        "\n",
        "# Mengumpulkan input nilai dari 5 siswa\n",
        "for i in range(5):\n",
        "    while True:  # Menyediakan loop agar input valid\n",
        "        try:\n",
        "            nilai = float(input(f\"Masukkan nilai siswa ke-{i + 1}: \"))\n",
        "            nilai_siswa.append(nilai)  # Menambahkan nilai ke dalam list\n",
        "            break  # Keluar dari loop jika input valid\n",
        "        except ValueError:\n",
        "            print(\"Input tidak valid. Silakan masukkan angka.\")\n",
        "\n",
        "# Mencari nilai tertinggi dan indeks siswa yang mendapatkan nilai tersebut\n",
        "nilai_tertinggi = max(nilai_siswa)\n",
        "indeks_siswa_tertinggi = nilai_siswa.index(nilai_tertinggi) + 1  # +1 untuk mendapatkan nomor siswa (1-5)\n",
        "\n",
        "# Menampilkan hasil\n",
        "print(f\"Nilai tertinggi di antara siswa adalah: {nilai_tertinggi}\")\n",
        "print(f\"Siswa ke-{indeks_siswa_tertinggi} mendapatkan nilai tertinggi.\")"
      ],
      "metadata": {
        "colab": {
          "base_uri": "https://localhost:8080/"
        },
        "id": "xL87G0am3dIC",
        "outputId": "4ec3dd76-7148-4bcb-e4e0-5cf7e96fda06"
      },
      "execution_count": 2,
      "outputs": [
        {
          "output_type": "stream",
          "name": "stdout",
          "text": [
            "Masukkan nilai siswa ke-1: 80\n",
            "Masukkan nilai siswa ke-2: 65\n",
            "Masukkan nilai siswa ke-3: 85\n",
            "Masukkan nilai siswa ke-4: 70\n",
            "Masukkan nilai siswa ke-5: 90\n",
            "Nilai tertinggi di antara siswa adalah: 90.0\n",
            "Siswa ke-5 mendapatkan nilai tertinggi.\n"
          ]
        }
      ]
    }
  ]
}