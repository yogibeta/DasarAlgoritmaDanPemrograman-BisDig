{
  "nbformat": 4,
  "nbformat_minor": 0,
  "metadata": {
    "colab": {
      "provenance": []
    },
    "kernelspec": {
      "name": "python3",
      "display_name": "Python 3"
    },
    "language_info": {
      "name": "python"
    }
  },
  "cells": [
    {
      "cell_type": "markdown",
      "source": [
        "program python untuk membaca harga barang dan menampilkan total pembayaran"
      ],
      "metadata": {
        "id": "0JSPMa3R3wKS"
      }
    },
    {
      "cell_type": "code",
      "source": [
        "# Program untuk menghitung total pembayaran dari 3 barang\n",
        "\n",
        "# Fungsi untuk menghitung total harga\n",
        "def hitung_total():\n",
        "    # Mengambil input harga dari pengguna\n",
        "    harga_barang1 = float(input(\"Masukkan harga barang ke-1: \"))\n",
        "    harga_barang2 = float(input(\"Masukkan harga barang ke-2: \"))\n",
        "    harga_barang3 = float(input(\"Masukkan harga barang ke-3: \"))\n",
        "\n",
        "    # Menghitung total harga\n",
        "    total_harga = harga_barang1 + harga_barang2 + harga_barang3\n",
        "\n",
        "    # Menampilkan hasil\n",
        "    print(f\"\\nTotal pembayaran Anda adalah: Rp {total_harga:.2f}\")\n",
        "\n",
        "# Memanggil fungsi untuk menjalankan program\n",
        "hitung_total()"
      ],
      "metadata": {
        "colab": {
          "base_uri": "https://localhost:8080/"
        },
        "id": "hf3uMq717Xfj",
        "outputId": "5e062dd9-4874-46bf-ece2-4983f3e79eb1"
      },
      "execution_count": 3,
      "outputs": [
        {
          "output_type": "stream",
          "name": "stdout",
          "text": [
            "Masukkan harga barang ke-1: 550\n",
            "Masukkan harga barang ke-2: 450\n",
            "Masukkan harga barang ke-3: 600\n",
            "\n",
            "Total pembayaran Anda adalah: Rp 1600.00\n"
          ]
        }
      ]
    }
  ]
}